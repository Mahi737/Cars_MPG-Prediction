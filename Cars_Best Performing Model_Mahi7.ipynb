{
 "cells": [
  {
   "cell_type": "markdown",
   "id": "d12d56c4",
   "metadata": {},
   "source": [
    "#### Project:\n",
    "\n",
    "1. Use the predictors(Cylinders,Weight,Horsepower) to fit a kNN model to find y(MPG) (choose appropriate values of k using CV)\n",
    "2. Fit linear regression on the same data. Use CV to validate the model.\n",
    "3. Fit decision tree on the same data. Use CV to validate the model.\n",
    "4. Choose the best competing models for testing\n",
    "5. Report the best performing model.\n",
    "\n",
    "\n",
    "GIVE EXPLANATIONS"
   ]
  },
  {
   "cell_type": "markdown",
   "id": "da918ce7",
   "metadata": {},
   "source": [
    "### Importing Libraries"
   ]
  },
  {
   "cell_type": "code",
   "execution_count": 10,
   "id": "18fb0298",
   "metadata": {},
   "outputs": [],
   "source": [
    "import numpy as np\n",
    "import pandas as pd\n",
    "import matplotlib.pyplot as plt\n",
    "import time\n",
    "\n",
    "#for test-train split\n",
    "from sklearn.model_selection import train_test_split\n",
    "\n",
    "#for fitting KNN\n",
    "from sklearn.neighbors import KNeighborsRegressor\n",
    "\n",
    "#for fitting LinearRegression\n",
    "from sklearn.linear_model import LinearRegression\n",
    "\n",
    "#for fitting regression tree\n",
    "from sklearn.tree import DecisionTreeRegressor\n",
    "\n",
    "#to compute cross validation score\n",
    "from sklearn.model_selection import cross_val_score"
   ]
  },
  {
   "cell_type": "code",
   "execution_count": null,
   "id": "97a81e6c",
   "metadata": {},
   "outputs": [],
   "source": []
  },
  {
   "cell_type": "markdown",
   "id": "d88fb410",
   "metadata": {},
   "source": [
    "### Reading data"
   ]
  },
  {
   "cell_type": "code",
   "execution_count": 11,
   "id": "a52e755c",
   "metadata": {},
   "outputs": [],
   "source": [
    "cars = pd.read_csv('cars.csv')                #reading csv file\n",
    "X = cars[['Cylinders','Weight','Horsepower']] #assigning predictors\n",
    "y = cars['MPG']                               #assigning target variable"
   ]
  },
  {
   "cell_type": "code",
   "execution_count": null,
   "id": "96d1677d",
   "metadata": {},
   "outputs": [],
   "source": []
  },
  {
   "cell_type": "markdown",
   "id": "e3fdca70",
   "metadata": {},
   "source": [
    "### Train_test_split"
   ]
  },
  {
   "cell_type": "code",
   "execution_count": 12,
   "id": "8fcec2e8",
   "metadata": {},
   "outputs": [],
   "source": [
    "#using 70-30 train-test split and later use cross validation\n",
    "X_train,X_test,y_train,y_test = train_test_split(X,y,test_size=0.3) "
   ]
  },
  {
   "cell_type": "code",
   "execution_count": null,
   "id": "92759d57",
   "metadata": {},
   "outputs": [],
   "source": []
  },
  {
   "cell_type": "markdown",
   "id": "b0374f52",
   "metadata": {},
   "source": [
    "### KNN model"
   ]
  },
  {
   "cell_type": "markdown",
   "id": "78a5c8a4",
   "metadata": {},
   "source": [
    "#### Range of k values are passed on to find the cv_scores(MAE) and the optimum k-value is determined. \n",
    "\n",
    "As the length of the training data is around 284, 15 *(at all iteration, 93% is used for training data and 7% is used for validating data)* is used as cv value to predict MAE"
   ]
  },
  {
   "cell_type": "code",
   "execution_count": 13,
   "id": "b486c060",
   "metadata": {},
   "outputs": [],
   "source": [
    "#Using cross-validation to choose optimal k for kNN\n",
    "neighbors = list(range(1,250))\n",
    "\n",
    "#empty list that will hold cv_scores\n",
    "cv_scores=[]\n",
    "\n",
    "#perform 15-fold cross validation to find cv_score(MAE)\n",
    "for k in neighbors:\n",
    "    knn = KNeighborsRegressor(n_neighbors=k)\n",
    "    scores = cross_val_score(knn,X_train,y_train,cv=15,scoring='neg_mean_absolute_error')\n",
    "    cv_scores.append(scores.mean())"
   ]
  },
  {
   "cell_type": "code",
   "execution_count": 14,
   "id": "95431b7c",
   "metadata": {},
   "outputs": [
    {
     "data": {
      "image/png": "[encoded data removed]",
      "text/plain": [
       "<Figure size 432x288 with 1 Axes>"
      ]
     },
     "metadata": {
      "needs_background": "light"
     },
     "output_type": "display_data"
    }
   ],
   "source": [
    "#plot neg_mean_absolute_error vs k\n",
    "plt.plot(neighbors,cv_scores)\n",
    "plt.title('MAE vs n_neighbors')\n",
    "plt.xlabel('Number of Neighbors K')\n",
    "plt.ylabel('Mean absolute error')\n",
    "plt.show()"
   ]
  },
  {
   "cell_type": "code",
   "execution_count": 15,
   "id": "179900b0",
   "metadata": {},
   "outputs": [
    {
     "data": {
      "text/plain": [
       "-3.512864471119319"
      ]
     },
     "execution_count": 15,
     "metadata": {},
     "output_type": "execute_result"
    }
   ],
   "source": [
    "#finding the minimum MAE\n",
    "np.max(cv_scores) #since negative MAE is calculated, np.max is used"
   ]
  },
  {
   "cell_type": "code",
   "execution_count": 16,
   "id": "bf5ed4b3",
   "metadata": {},
   "outputs": [
    {
     "data": {
      "text/plain": [
       "array([248, 247, 246, 245, 244, 243, 242, 241, 240, 239, 238, 237, 236,\n",
       "       235, 234, 233, 232, 231, 230, 229, 228, 227, 226, 225, 224, 223,\n",
       "       222, 221, 220, 219, 218, 217, 216, 215, 214, 213, 212, 211, 210,\n",
       "       209, 208, 207, 206, 205, 204, 203, 202, 201, 200, 199, 198, 197,\n",
       "       196, 195, 194, 193, 192, 191, 190, 189, 188, 187, 186, 185, 184,\n",
       "       183, 182, 181, 180,   0, 179, 178, 177, 176, 175, 174, 173, 172,\n",
       "       171, 170, 169, 168, 167, 166, 165, 164, 163, 162, 161, 160, 159,\n",
       "       158, 157, 156, 155, 154, 153, 152, 151, 150, 149, 148, 147, 146,\n",
       "       145, 144,   1, 143, 142, 141, 140, 139, 138, 137, 136, 135, 134,\n",
       "       133, 132, 131, 130, 129, 128, 127, 126, 125,   2, 124, 123, 122,\n",
       "       121, 120, 119, 118, 117, 116, 115, 114, 113, 112, 111, 110, 109,\n",
       "       108, 107, 104, 105, 106, 103, 102, 101, 100,  99,  98,  97,  96,\n",
       "        95,  94,   7,  93,   5,  92,   8,   3,  91,  88,  90,  89,  87,\n",
       "         6,  84,   9,  85,  10,  86,  83,   4,  82,  81,  80,  79,  76,\n",
       "        77,  78,  75,  74,  11,  73,  72,  71,  12,  70,  69,  13,  32,\n",
       "        68,  33,  67,  34,  65,  25,  35,  29,  66,  31,  30,  36,  64,\n",
       "        40,  39,  15,  38,  28,  23,  41,  14,  24,  63,  26,  43,  22,\n",
       "        37,  27,  44,  61,  42,  21,  62,  46,  60,  45,  49,  51,  16,\n",
       "        54,  50,  52,  48,  47,  53,  59,  57,  56,  55,  58,  20,  17,\n",
       "        19,  18], dtype=int64)"
      ]
     },
     "execution_count": 16,
     "metadata": {},
     "output_type": "execute_result"
    }
   ],
   "source": [
    "np.argsort(cv_scores) #sorting the index in ascending order of cv_scores and getting the index of minimum MAE"
   ]
  },
  {
   "cell_type": "code",
   "execution_count": 17,
   "id": "e1e8a056",
   "metadata": {},
   "outputs": [
    {
     "data": {
      "text/plain": [
       "-3.562226510721248"
      ]
     },
     "execution_count": 17,
     "metadata": {},
     "output_type": "execute_result"
    }
   ],
   "source": [
    "cv_scores[49] #cross check the value of cv_score at that index"
   ]
  },
  {
   "cell_type": "markdown",
   "id": "fd661c1f",
   "metadata": {},
   "source": [
    "### Error is minimum at k=50"
   ]
  },
  {
   "cell_type": "markdown",
   "id": "e14b1ba7",
   "metadata": {},
   "source": [
    "### Linear Regression model"
   ]
  },
  {
   "cell_type": "markdown",
   "id": "9a1f2b6f",
   "metadata": {},
   "source": [
    "#### Linear regression gives us a single equation to predict the target variable and the variance in the predicted value can be high. \n",
    "\n",
    "*As the number of predictors considered are less in this dataset, it is preferrable to use KNN or Decision Tree as both of them give a more accurate value and the cv_score(MAE) calcuated in these models is also proving us the same*"
   ]
  },
  {
   "cell_type": "code",
   "execution_count": 18,
   "id": "08b3bf36",
   "metadata": {},
   "outputs": [],
   "source": [
    "lr = LinearRegression() #fitting linear regression model"
   ]
  },
  {
   "cell_type": "code",
   "execution_count": 19,
   "id": "7d055d0b",
   "metadata": {},
   "outputs": [],
   "source": [
    "#finding cv_scores(MAE)\n",
    "cv_scores = []\n",
    "scores = cross_val_score(lr,X_train,y_train,cv=15,scoring='neg_mean_absolute_error')\n",
    "cv_scores.append(scores.mean())"
   ]
  },
  {
   "cell_type": "code",
   "execution_count": 20,
   "id": "747354a1",
   "metadata": {},
   "outputs": [
    {
     "data": {
      "text/plain": [
       "[-3.6343128461610856]"
      ]
     },
     "execution_count": 20,
     "metadata": {},
     "output_type": "execute_result"
    }
   ],
   "source": [
    "cv_scores"
   ]
  },
  {
   "cell_type": "code",
   "execution_count": null,
   "id": "c09d5d5d",
   "metadata": {},
   "outputs": [],
   "source": []
  },
  {
   "cell_type": "markdown",
   "id": "d9781e49",
   "metadata": {},
   "source": [
    "### Regression Decision Tree"
   ]
  },
  {
   "cell_type": "markdown",
   "id": "15ea6ea8",
   "metadata": {},
   "source": [
    "#### Range of depth and leaf values are passed on to find the cv_scores(MAE) and the optimum (depth,leaf) value is found out. \n",
    " "
   ]
  },
  {
   "cell_type": "code",
   "execution_count": 21,
   "id": "2475c8ec",
   "metadata": {},
   "outputs": [],
   "source": [
    "#creating a list to assume values of depth and sample leaf\n",
    "depth = list(range(1,11))\n",
    "leaf = list(range(1,11))"
   ]
  },
  {
   "cell_type": "code",
   "execution_count": 22,
   "id": "d5f5137c",
   "metadata": {
    "scrolled": true
   },
   "outputs": [
    {
     "data": {
      "text/plain": [
       "100"
      ]
     },
     "execution_count": 22,
     "metadata": {},
     "output_type": "execute_result"
    }
   ],
   "source": [
    "#creating a tuple to have all combinations of the assumed depth and sample leaf\n",
    "tup = [(x,y) for x in depth for y in leaf]\n",
    "tup\n",
    "len(tup)"
   ]
  },
  {
   "cell_type": "code",
   "execution_count": 23,
   "id": "4bffb0a7",
   "metadata": {},
   "outputs": [
    {
     "data": {
      "text/plain": [
       "100"
      ]
     },
     "execution_count": 23,
     "metadata": {},
     "output_type": "execute_result"
    }
   ],
   "source": [
    "#ceating a array of numbers to use it as X-axis in graph and taking the relevant tuple based on minimum error\n",
    "base = np.arange(0,100,1)\n",
    "len(base)"
   ]
  },
  {
   "cell_type": "code",
   "execution_count": 24,
   "id": "4d70bd09",
   "metadata": {},
   "outputs": [],
   "source": [
    "#finding cv_scores(MAE) for all assumed values of depth and sample leaf\n",
    "cv_scores=[]\n",
    "for i in tup:\n",
    "    reg = DecisionTreeRegressor(max_depth = i[0],min_samples_leaf = i[1])\n",
    "    scores = cross_val_score(reg, X_train, y_train, cv=15, scoring='neg_mean_absolute_error')\n",
    "    cv_scores.append(scores.mean())\n"
   ]
  },
  {
   "cell_type": "code",
   "execution_count": 25,
   "id": "b16fae81",
   "metadata": {},
   "outputs": [
    {
     "data": {
      "text/plain": [
       "100"
      ]
     },
     "execution_count": 25,
     "metadata": {},
     "output_type": "execute_result"
    }
   ],
   "source": [
    "len(cv_scores)"
   ]
  },
  {
   "cell_type": "code",
   "execution_count": 26,
   "id": "55776b40",
   "metadata": {},
   "outputs": [
    {
     "data": {
      "image/png": "[encoded data removed]",
      "text/plain": [
       "<Figure size 432x288 with 1 Axes>"
      ]
     },
     "metadata": {
      "needs_background": "light"
     },
     "output_type": "display_data"
    }
   ],
   "source": [
    "#plot neg_mean_absolute_error vs base(i.e,.max_depth,min_samples_leaf)\n",
    "plt.plot(base,cv_scores)\n",
    "plt.title('MAE vs (depth,leaf)')\n",
    "plt.ylabel('Mean absolute error')\n",
    "plt.show()"
   ]
  },
  {
   "cell_type": "code",
   "execution_count": 27,
   "id": "39c873db",
   "metadata": {},
   "outputs": [
    {
     "data": {
      "text/plain": [
       "-3.4985575140692777"
      ]
     },
     "execution_count": 27,
     "metadata": {},
     "output_type": "execute_result"
    }
   ],
   "source": [
    "#finding the minimum MAE\n",
    "np.max(cv_scores) #since negative MAE is calculated, np.max is used"
   ]
  },
  {
   "cell_type": "code",
   "execution_count": 28,
   "id": "96f636ec",
   "metadata": {},
   "outputs": [
    {
     "data": {
      "text/plain": [
       "array([90,  0,  1,  2,  3,  4,  5,  6,  8,  7,  9, 80, 91, 70, 81, 60, 71,\n",
       "       92, 50, 82, 72, 40, 61, 75, 95, 85, 62, 94, 84, 74, 83, 93, 65, 41,\n",
       "       51, 73, 86, 96, 76, 64, 44, 42, 43, 66, 52, 55, 45, 32, 63, 33, 31,\n",
       "       56, 54, 53, 35, 34, 15, 11, 19, 10, 17, 12, 14, 18, 16, 13, 97, 87,\n",
       "       67, 77, 30, 78, 98, 68, 88, 46, 58, 57, 36, 89, 79, 69, 99, 59, 48,\n",
       "       49, 47, 39, 38, 20, 37, 29, 28, 22, 21, 25, 23, 24, 27, 26],\n",
       "      dtype=int64)"
      ]
     },
     "execution_count": 28,
     "metadata": {},
     "output_type": "execute_result"
    }
   ],
   "source": [
    "np.argsort(cv_scores) #sorting the index in ascending order of cv_scores and getting the index of minimum MAE"
   ]
  },
  {
   "cell_type": "code",
   "execution_count": 29,
   "id": "744b91a6",
   "metadata": {},
   "outputs": [
    {
     "data": {
      "text/plain": [
       "-3.53340650308612"
      ]
     },
     "execution_count": 29,
     "metadata": {},
     "output_type": "execute_result"
    }
   ],
   "source": [
    "cv_scores[28] #cross check the value of cv_score at that index"
   ]
  },
  {
   "cell_type": "code",
   "execution_count": 30,
   "id": "fdee50ce",
   "metadata": {},
   "outputs": [
    {
     "data": {
      "text/plain": [
       "(3, 9)"
      ]
     },
     "execution_count": 30,
     "metadata": {},
     "output_type": "execute_result"
    }
   ],
   "source": [
    "tup[28] #getting the value of depth and sample leaf from the created tuple"
   ]
  },
  {
   "cell_type": "markdown",
   "id": "148e6084",
   "metadata": {},
   "source": [
    "#### Error is minimum at depth = 3 & min_samples_leaf = 6"
   ]
  },
  {
   "cell_type": "markdown",
   "id": "26720d90",
   "metadata": {},
   "source": [
    "The drop in cv_score is negligible if the depth value(for all values of leaf) is taken more than 7. \n",
    "The same can be observed in the plotted MAE vs (depth,leaf) graph. \n",
    "\n",
    "\n",
    "\n",
    "Hence the cv_score(MAE) was checked for depth & leaf values in the range (1 to 10)"
   ]
  },
  {
   "cell_type": "markdown",
   "id": "b59a5ee1",
   "metadata": {},
   "source": [
    "## Conclusion:\n",
    "\n",
    "CV score(MAE) is almost in the same range for both KNN and Regression-Decision Tree (for different values of training data).\n",
    "\n",
    "\n",
    "So both the models are chosen for testing."
   ]
  },
  {
   "cell_type": "markdown",
   "id": "4da0ac4c",
   "metadata": {},
   "source": []
  },
  {
   "cell_type": "markdown",
   "id": "34c849cf",
   "metadata": {},
   "source": [
    "### Testing the Models (KNN & Decision Tree)"
   ]
  },
  {
   "cell_type": "code",
   "execution_count": 31,
   "id": "b02a8a97",
   "metadata": {},
   "outputs": [
    {
     "name": "stdout",
     "output_type": "stream",
     "text": [
      "MAE:  3.1244023224043715\n",
      "Time taken: 0.0 secs\n"
     ]
    }
   ],
   "source": [
    "#KNN\n",
    "start = time.time()                                       #start time is noted\n",
    "knn = KNeighborsRegressor(n_neighbors=48)                 #knn model is initiated using the k-value as found before\n",
    "knn.fit(X_train,y_train)                                  #fitting the model\n",
    "y_pred = knn.predict(X_test)                              #predicting the target variable\n",
    "print('MAE: ',np.mean(np.abs((np.array(y_test)-y_pred)))) #calculating performance metric(MAE)\n",
    "stop = time.time()                                        #stop time is noted\n",
    "print('Time taken: '+str(stop-start)+ ' secs')            #time taken to run the model is calculated\n"
   ]
  },
  {
   "cell_type": "code",
   "execution_count": 32,
   "id": "1724c95a",
   "metadata": {},
   "outputs": [
    {
     "name": "stdout",
     "output_type": "stream",
     "text": [
      "MAE:  3.4415802841187206\n",
      "Time taken: 0.0029993057250976562 secs\n"
     ]
    }
   ],
   "source": [
    "#Regression Decision Tree\n",
    "start = time.time()                                              #start time is noted\n",
    "rdt = DecisionTreeRegressor(max_depth = 3,min_samples_leaf = 9)  #decision tree model is initiated using depth and sample leaf value as found before\n",
    "rdt.fit(X_train,y_train)                                         #fitting the model\n",
    "y_pred = rdt.predict(X_test)                                     #predicting the target variable\n",
    "print('MAE: ',np.mean(np.abs((np.array(y_test)-y_pred))))        #calculating performance metric(MAE)\n",
    "stop = time.time()                                               #stop time is noted\n",
    "print('Time taken: '+str(stop-start)+ ' secs')                   #time taken to run the model is calculated"
   ]
  },
  {
   "cell_type": "markdown",
   "id": "e62bdaae",
   "metadata": {},
   "source": [
    "## Final Inference:"
   ]
  },
  {
   "cell_type": "markdown",
   "id": "b21b2fde",
   "metadata": {},
   "source": [
    "For the calculated hyperparameters, Decision Tree runs faster . Also Decision Tree ensures homogeneity in the target variable. Hence Decision Tree is the best performing model for the considered predictors and target variable!!!"
   ]
  },
  {
   "cell_type": "code",
   "execution_count": null,
   "id": "5ccf632d",
   "metadata": {},
   "outputs": [],
   "source": []
  }
 ],
 "metadata": {
  "kernelspec": {
   "display_name": "Python 3 (ipykernel)",
   "language": "python",
   "name": "python3"
  },
  "language_info": {
   "codemirror_mode": {
    "name": "ipython",
    "version": 3
   },
   "file_extension": ".py",
   "mimetype": "text/x-python",
   "name": "python",
   "nbconvert_exporter": "python",
   "pygments_lexer": "ipython3",
   "version": "3.9.12"
  }
 },
 "nbformat": 4,
 "nbformat_minor": 5
}
